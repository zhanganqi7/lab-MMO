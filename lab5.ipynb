{
 "cells": [
  {
   "cell_type": "code",
   "execution_count": 1,
   "id": "e11e5e6e",
   "metadata": {},
   "outputs": [],
   "source": [
    "text='Hиколaй Эрнeстович Бaумaн родился в семье владельца обойной и столярной мастерской. В 1891—1895 годах был студентом Казанского ветеринарного института. В годы учёбы увлёкся нелегальной народнической и марксистской литературой, участвовал в работе подпольных рабочих кружков.'"
   ]
  },
  {
   "cell_type": "markdown",
   "id": "61d1b160",
   "metadata": {},
   "source": [
    "# Задание:\n",
    "# 1. Токенизация\n",
    "Для выполнения работы испоьзована библиотека 'Natasha'"
   ]
  },
  {
   "cell_type": "code",
   "execution_count": 2,
   "id": "877abdb0",
   "metadata": {},
   "outputs": [
    {
     "data": {
      "text/plain": [
       "[Substring(0, 1, 'H'),\n",
       " Substring(1, 5, 'икол'),\n",
       " Substring(5, 6, 'a'),\n",
       " Substring(6, 7, 'й'),\n",
       " Substring(8, 11, 'Эрн'),\n",
       " Substring(11, 12, 'e'),\n",
       " Substring(12, 18, 'стович'),\n",
       " Substring(19, 20, 'Б'),\n",
       " Substring(20, 21, 'a'),\n",
       " Substring(21, 23, 'ум'),\n",
       " Substring(23, 24, 'a'),\n",
       " Substring(24, 25, 'н'),\n",
       " Substring(26, 33, 'родился'),\n",
       " Substring(34, 35, 'в'),\n",
       " Substring(36, 41, 'семье'),\n",
       " Substring(42, 51, 'владельца'),\n",
       " Substring(52, 59, 'обойной'),\n",
       " Substring(60, 61, 'и'),\n",
       " Substring(62, 71, 'столярной'),\n",
       " Substring(72, 82, 'мастерской'),\n",
       " Substring(82, 83, '.'),\n",
       " Substring(84, 85, 'В'),\n",
       " Substring(86, 95, '1891—1895'),\n",
       " Substring(96, 101, 'годах'),\n",
       " Substring(102, 105, 'был'),\n",
       " Substring(106, 115, 'студентом'),\n",
       " Substring(116, 126, 'Казанского'),\n",
       " Substring(127, 140, 'ветеринарного'),\n",
       " Substring(141, 150, 'института'),\n",
       " Substring(150, 151, '.'),\n",
       " Substring(152, 153, 'В'),\n",
       " Substring(154, 158, 'годы'),\n",
       " Substring(159, 164, 'учёбы'),\n",
       " Substring(165, 172, 'увлёкся'),\n",
       " Substring(173, 184, 'нелегальной'),\n",
       " Substring(185, 198, 'народнической'),\n",
       " Substring(199, 200, 'и'),\n",
       " Substring(201, 213, 'марксистской'),\n",
       " Substring(214, 225, 'литературой'),\n",
       " Substring(225, 226, ','),\n",
       " Substring(227, 237, 'участвовал'),\n",
       " Substring(238, 239, 'в'),\n",
       " Substring(240, 246, 'работе'),\n",
       " Substring(247, 257, 'подпольных'),\n",
       " Substring(258, 265, 'рабочих'),\n",
       " Substring(266, 273, 'кружков'),\n",
       " Substring(273, 274, '.')]"
      ]
     },
     "execution_count": 2,
     "metadata": {},
     "output_type": "execute_result"
    }
   ],
   "source": [
    "from razdel import tokenize, sentenize\n",
    "n_tok_text = list(tokenize(text))\n",
    "n_tok_text"
   ]
  },
  {
   "cell_type": "code",
   "execution_count": 3,
   "id": "76ac2ee7",
   "metadata": {},
   "outputs": [
    {
     "data": {
      "text/plain": [
       "['H',\n",
       " 'икол',\n",
       " 'a',\n",
       " 'й',\n",
       " 'Эрн',\n",
       " 'e',\n",
       " 'стович',\n",
       " 'Б',\n",
       " 'a',\n",
       " 'ум',\n",
       " 'a',\n",
       " 'н',\n",
       " 'родился',\n",
       " 'в',\n",
       " 'семье',\n",
       " 'владельца',\n",
       " 'обойной',\n",
       " 'и',\n",
       " 'столярной',\n",
       " 'мастерской',\n",
       " '.',\n",
       " 'В',\n",
       " '1891—1895',\n",
       " 'годах',\n",
       " 'был',\n",
       " 'студентом',\n",
       " 'Казанского',\n",
       " 'ветеринарного',\n",
       " 'института',\n",
       " '.',\n",
       " 'В',\n",
       " 'годы',\n",
       " 'учёбы',\n",
       " 'увлёкся',\n",
       " 'нелегальной',\n",
       " 'народнической',\n",
       " 'и',\n",
       " 'марксистской',\n",
       " 'литературой',\n",
       " ',',\n",
       " 'участвовал',\n",
       " 'в',\n",
       " 'работе',\n",
       " 'подпольных',\n",
       " 'рабочих',\n",
       " 'кружков',\n",
       " '.']"
      ]
     },
     "execution_count": 3,
     "metadata": {},
     "output_type": "execute_result"
    }
   ],
   "source": [
    "[_.text for _ in n_tok_text]"
   ]
  },
  {
   "cell_type": "code",
   "execution_count": 4,
   "id": "0174fde1",
   "metadata": {},
   "outputs": [
    {
     "data": {
      "text/plain": [
       "[Substring(0,\n",
       "           83,\n",
       "           'Hиколaй Эрнeстович Бaумaн родился в семье владельца обойной и столярной мастерской.'),\n",
       " Substring(84,\n",
       "           151,\n",
       "           'В 1891—1895 годах был студентом\\xa0Казанского ветеринарного института.'),\n",
       " Substring(152,\n",
       "           274,\n",
       "           'В годы учёбы увлёкся нелегальной народнической и марксистской литературой, участвовал в работе подпольных рабочих кружков.')]"
      ]
     },
     "execution_count": 4,
     "metadata": {},
     "output_type": "execute_result"
    }
   ],
   "source": [
    "n_sen_text = list(sentenize(text))\n",
    "n_sen_text"
   ]
  },
  {
   "cell_type": "code",
   "execution_count": 5,
   "id": "ac230b64",
   "metadata": {},
   "outputs": [
    {
     "data": {
      "text/plain": [
       "(['Hиколaй Эрнeстович Бaумaн родился в семье владельца обойной и столярной мастерской.',\n",
       "  'В 1891—1895 годах был студентом\\xa0Казанского ветеринарного института.',\n",
       "  'В годы учёбы увлёкся нелегальной народнической и марксистской литературой, участвовал в работе подпольных рабочих кружков.'],\n",
       " 3)"
      ]
     },
     "execution_count": 5,
     "metadata": {},
     "output_type": "execute_result"
    }
   ],
   "source": [
    "[_.text for _ in n_sen_text], len([_.text for _ in n_sen_text])"
   ]
  },
  {
   "cell_type": "code",
   "execution_count": 6,
   "id": "9b876067",
   "metadata": {},
   "outputs": [],
   "source": [
    "def n_sentenize(text):\n",
    "    n_sen_chunk = []\n",
    "    for sent in sentenize(text):\n",
    "        tokens = [_.text for _ in tokenize(sent.text)]\n",
    "        n_sen_chunk.append(tokens)\n",
    "    return n_sen_chunk"
   ]
  },
  {
   "cell_type": "code",
   "execution_count": 7,
   "id": "201a37e1",
   "metadata": {},
   "outputs": [
    {
     "data": {
      "text/plain": [
       "[['H',\n",
       "  'икол',\n",
       "  'a',\n",
       "  'й',\n",
       "  'Эрн',\n",
       "  'e',\n",
       "  'стович',\n",
       "  'Б',\n",
       "  'a',\n",
       "  'ум',\n",
       "  'a',\n",
       "  'н',\n",
       "  'родился',\n",
       "  'в',\n",
       "  'семье',\n",
       "  'владельца',\n",
       "  'обойной',\n",
       "  'и',\n",
       "  'столярной',\n",
       "  'мастерской',\n",
       "  '.'],\n",
       " ['В',\n",
       "  '1891—1895',\n",
       "  'годах',\n",
       "  'был',\n",
       "  'студентом',\n",
       "  'Казанского',\n",
       "  'ветеринарного',\n",
       "  'института',\n",
       "  '.'],\n",
       " ['В',\n",
       "  'годы',\n",
       "  'учёбы',\n",
       "  'увлёкся',\n",
       "  'нелегальной',\n",
       "  'народнической',\n",
       "  'и',\n",
       "  'марксистской',\n",
       "  'литературой',\n",
       "  ',',\n",
       "  'участвовал',\n",
       "  'в',\n",
       "  'работе',\n",
       "  'подпольных',\n",
       "  'рабочих',\n",
       "  'кружков',\n",
       "  '.']]"
      ]
     },
     "execution_count": 7,
     "metadata": {},
     "output_type": "execute_result"
    }
   ],
   "source": [
    "n_sen_chunk = n_sentenize(text)\n",
    "n_sen_chunk"
   ]
  },
  {
   "cell_type": "markdown",
   "id": "fcbf6c88",
   "metadata": {},
   "source": [
    "# 2.Частеречная разметка"
   ]
  },
  {
   "cell_type": "code",
   "execution_count": 8,
   "id": "adf2d6ca",
   "metadata": {},
   "outputs": [],
   "source": [
    "from navec import Navec\n",
    "from slovnet import Morph"
   ]
  },
  {
   "cell_type": "code",
   "execution_count": 9,
   "id": "4c202471",
   "metadata": {},
   "outputs": [],
   "source": [
    "navec = Navec.load('navec_news_v1_1B_250K_300d_100q.tar')"
   ]
  },
  {
   "cell_type": "code",
   "execution_count": 10,
   "id": "eeaa9980",
   "metadata": {},
   "outputs": [],
   "source": [
    "n_morph = Morph.load('slovnet_morph_news_v1.tar', batch_size=4)"
   ]
  },
  {
   "cell_type": "code",
   "execution_count": 11,
   "id": "6aea50d7",
   "metadata": {},
   "outputs": [],
   "source": [
    "morph_res = n_morph.navec(navec)"
   ]
  },
  {
   "cell_type": "code",
   "execution_count": 12,
   "id": "76452330",
   "metadata": {},
   "outputs": [],
   "source": [
    "def print_pos(markup):\n",
    "    for token in markup.tokens:\n",
    "        print('{} - {}'.format(token.text, token.tag))"
   ]
  },
  {
   "cell_type": "code",
   "execution_count": 13,
   "id": "93739847",
   "metadata": {},
   "outputs": [
    {
     "name": "stdout",
     "output_type": "stream",
     "text": [
      "H - NOUN\n",
      "икол - X|Foreign=Yes\n",
      "a - X|Foreign=Yes\n",
      "й - NOUN|Animacy=Inan|Case=Gen|Gender=Fem|Number=Sing\n",
      "Эрн - PROPN|Foreign=Yes\n",
      "e - X|Foreign=Yes\n",
      "стович - NOUN|Animacy=Inan|Case=Gen|Gender=Masc|Number=Sing\n",
      "Б - PROPN\n",
      "a - X|Foreign=Yes\n",
      "ум - NOUN|Animacy=Inan|Case=Nom|Gender=Masc|Number=Sing\n",
      "a - NOUN\n",
      "н - X|Foreign=Yes\n",
      "родился - VERB|Aspect=Perf|Gender=Masc|Mood=Ind|Number=Sing|Tense=Past|VerbForm=Fin|Voice=Mid\n",
      "в - ADP\n",
      "семье - NOUN|Animacy=Inan|Case=Loc|Gender=Fem|Number=Sing\n",
      "владельца - NOUN|Animacy=Anim|Case=Gen|Gender=Masc|Number=Sing\n",
      "обойной - NOUN|Animacy=Anim|Case=Gen|Gender=Masc|Number=Sing\n",
      "и - CCONJ\n",
      "столярной - ADJ|Case=Gen|Degree=Pos|Gender=Fem|Number=Sing\n",
      "мастерской - NOUN|Animacy=Inan|Case=Gen|Gender=Fem|Number=Sing\n",
      ". - PUNCT\n",
      "В - ADP\n",
      "1891—1895 - ADJ\n",
      "годах - NOUN|Animacy=Inan|Case=Loc|Gender=Masc|Number=Plur\n",
      "был - AUX|Aspect=Imp|Gender=Masc|Mood=Ind|Number=Sing|Tense=Past|VerbForm=Fin|Voice=Act\n",
      "студентом - NOUN|Animacy=Anim|Case=Ins|Gender=Masc|Number=Sing\n",
      "Казанского - ADJ|Case=Gen|Degree=Pos|Gender=Masc|Number=Sing\n",
      "ветеринарного - ADJ|Case=Gen|Degree=Pos|Gender=Masc|Number=Sing\n",
      "института - NOUN|Animacy=Inan|Case=Gen|Gender=Masc|Number=Sing\n",
      ". - PUNCT\n",
      "В - ADP\n",
      "годы - NOUN|Animacy=Inan|Case=Acc|Gender=Masc|Number=Plur\n",
      "учёбы - NOUN|Animacy=Inan|Case=Gen|Gender=Fem|Number=Sing\n",
      "увлёкся - VERB|Aspect=Perf|Gender=Masc|Mood=Ind|Number=Sing|Tense=Past|VerbForm=Fin|Voice=Mid\n",
      "нелегальной - ADJ|Case=Ins|Degree=Pos|Gender=Fem|Number=Sing\n",
      "народнической - NOUN|Animacy=Inan|Case=Ins|Gender=Fem|Number=Sing\n",
      "и - CCONJ\n",
      "марксистской - ADJ|Case=Ins|Degree=Pos|Gender=Fem|Number=Sing\n",
      "литературой - NOUN|Animacy=Inan|Case=Ins|Gender=Fem|Number=Sing\n",
      ", - PUNCT\n",
      "участвовал - VERB|Aspect=Imp|Gender=Masc|Mood=Ind|Number=Sing|Tense=Past|VerbForm=Fin|Voice=Act\n",
      "в - ADP\n",
      "работе - NOUN|Animacy=Inan|Case=Loc|Gender=Fem|Number=Sing\n",
      "подпольных - ADJ|Case=Gen|Degree=Pos|Number=Plur\n",
      "рабочих - ADJ|Case=Gen|Degree=Pos|Number=Plur\n",
      "кружков - NOUN|Animacy=Inan|Case=Gen|Gender=Fem|Number=Plur\n",
      ". - PUNCT\n"
     ]
    },
    {
     "data": {
      "text/plain": [
       "[None, None, None]"
      ]
     },
     "execution_count": 13,
     "metadata": {},
     "output_type": "execute_result"
    }
   ],
   "source": [
    "n_text_markup = list(_ for _ in n_morph.map(n_sen_chunk))\n",
    "[print_pos(x) for x in n_text_markup]"
   ]
  },
  {
   "cell_type": "markdown",
   "id": "0442c4e4",
   "metadata": {},
   "source": [
    "# 3.Лемматизация"
   ]
  },
  {
   "cell_type": "code",
   "execution_count": 14,
   "id": "b2a157e3",
   "metadata": {},
   "outputs": [],
   "source": [
    "from natasha import Doc, Segmenter, NewsEmbedding, NewsMorphTagger, MorphVocab"
   ]
  },
  {
   "cell_type": "code",
   "execution_count": 15,
   "id": "9dadcb76",
   "metadata": {},
   "outputs": [],
   "source": [
    "def n_lemmatize(text):\n",
    "    emb = NewsEmbedding()\n",
    "    morph_tagger = NewsMorphTagger(emb)\n",
    "    segmenter = Segmenter()\n",
    "    morph_vocab = MorphVocab()\n",
    "    doc = Doc(text)\n",
    "    doc.segment(segmenter)\n",
    "    doc.tag_morph(morph_tagger)\n",
    "    for token in doc.tokens:\n",
    "        token.lemmatize(morph_vocab)\n",
    "    return doc"
   ]
  },
  {
   "cell_type": "code",
   "execution_count": 16,
   "id": "85d563f1",
   "metadata": {},
   "outputs": [
    {
     "data": {
      "text/plain": [
       "{'H': 'h',\n",
       " 'икол': 'икол',\n",
       " 'a': 'a',\n",
       " 'й': 'й',\n",
       " 'Эрн': 'эрна',\n",
       " 'e': 'e',\n",
       " 'стович': 'стович',\n",
       " 'Б': 'б',\n",
       " 'ум': 'ум',\n",
       " 'н': 'н',\n",
       " 'родился': 'родиться',\n",
       " 'в': 'в',\n",
       " 'семье': 'семья',\n",
       " 'владельца': 'владелец',\n",
       " 'обойной': 'обойный',\n",
       " 'и': 'и',\n",
       " 'столярной': 'столярный',\n",
       " 'мастерской': 'мастерская',\n",
       " '.': '.',\n",
       " 'В': 'в',\n",
       " '1891—1895': '1891—1895',\n",
       " 'годах': 'год',\n",
       " 'был': 'быть',\n",
       " 'студентом': 'студент',\n",
       " 'Казанского': 'казанский',\n",
       " 'ветеринарного': 'ветеринарный',\n",
       " 'института': 'институт',\n",
       " 'годы': 'год',\n",
       " 'учёбы': 'учеба',\n",
       " 'увлёкся': 'увлечься',\n",
       " 'нелегальной': 'нелегальный',\n",
       " 'народнической': 'народнический',\n",
       " 'марксистской': 'марксистский',\n",
       " 'литературой': 'литература',\n",
       " ',': ',',\n",
       " 'участвовал': 'участвовать',\n",
       " 'работе': 'работа',\n",
       " 'подпольных': 'подпольный',\n",
       " 'рабочих': 'рабочий',\n",
       " 'кружков': 'кружок'}"
      ]
     },
     "execution_count": 16,
     "metadata": {},
     "output_type": "execute_result"
    }
   ],
   "source": [
    "n_doc = n_lemmatize(text)\n",
    "{_.text: _.lemma for _ in n_doc.tokens}"
   ]
  },
  {
   "cell_type": "markdown",
   "id": "4ad07961",
   "metadata": {},
   "source": [
    "# 4.Выделение (распознавание) именованных сущностей\n",
    "named-entity recognition (NER)"
   ]
  },
  {
   "cell_type": "code",
   "execution_count": 17,
   "id": "d61823e4",
   "metadata": {},
   "outputs": [],
   "source": [
    "from slovnet import NER\n",
    "from ipymarkup import show_span_ascii_markup as show_markup"
   ]
  },
  {
   "cell_type": "code",
   "execution_count": 18,
   "id": "428b91c5",
   "metadata": {},
   "outputs": [],
   "source": [
    "ner = NER.load('slovnet_ner_news_v1.tar')"
   ]
  },
  {
   "cell_type": "code",
   "execution_count": 19,
   "id": "36b50fd8",
   "metadata": {},
   "outputs": [],
   "source": [
    "ner_res = ner.navec(navec)"
   ]
  },
  {
   "cell_type": "code",
   "execution_count": 20,
   "id": "59891d18",
   "metadata": {},
   "outputs": [
    {
     "data": {
      "text/plain": [
       "SpanMarkup(\n",
       "    text='Hиколaй Эрнeстович Бaумaн родился в семье владельца обойной и столярной мастерской. В 1891—1895 годах был студентом\\xa0Казанского ветеринарного института. В годы учёбы увлёкся нелегальной народнической и марксистской литературой, участвовал в работе подпольных рабочих кружков.',\n",
       "    spans=[Span(\n",
       "         start=116,\n",
       "         stop=150,\n",
       "         type='ORG'\n",
       "     )]\n",
       ")"
      ]
     },
     "execution_count": 20,
     "metadata": {},
     "output_type": "execute_result"
    }
   ],
   "source": [
    "markup_ner = ner(text)\n",
    "markup_ner"
   ]
  },
  {
   "cell_type": "code",
   "execution_count": 21,
   "id": "9682bc17",
   "metadata": {},
   "outputs": [
    {
     "name": "stdout",
     "output_type": "stream",
     "text": [
      "Hиколaй Эрнeстович Бaумaн родился в семье владельца обойной и \n",
      "столярной мастерской. В 1891—1895 годах был студентом Казанского \n",
      "                                                      ORG────────\n",
      "ветеринарного института. В годы учёбы увлёкся нелегальной \n",
      "───────────────────────                                   \n",
      "народнической и марксистской литературой, участвовал в работе \n",
      "подпольных рабочих кружков.\n"
     ]
    }
   ],
   "source": [
    "show_markup(markup_ner.text, markup_ner.spans)"
   ]
  },
  {
   "cell_type": "markdown",
   "id": "c1da5c10",
   "metadata": {},
   "source": [
    "# 5.Разбор предложения"
   ]
  },
  {
   "cell_type": "code",
   "execution_count": 22,
   "id": "dcb679cc",
   "metadata": {},
   "outputs": [],
   "source": [
    "from natasha import NewsSyntaxParser"
   ]
  },
  {
   "cell_type": "code",
   "execution_count": 23,
   "id": "379b1fae",
   "metadata": {},
   "outputs": [],
   "source": [
    "emb = NewsEmbedding()\n",
    "syntax_parser = NewsSyntaxParser(emb)"
   ]
  },
  {
   "cell_type": "code",
   "execution_count": 24,
   "id": "cbfa2565",
   "metadata": {},
   "outputs": [
    {
     "name": "stdout",
     "output_type": "stream",
     "text": [
      "┌──────────► H          advmod\n",
      "│ ┌►┌─┌─┌─┌─ икол       obl\n",
      "│ │ │ │ │ └► a          appos\n",
      "│ │ │ │ └►┌─ й          appos\n",
      "│ │ │ │   └► Эрн        nmod\n",
      "│ │ │ │   ┌► e          appos\n",
      "│ │ │ └►┌─└─ стович     appos\n",
      "│ │ │ ┌─└►┌─ Б          appos\n",
      "│ │ │ │   └► a          appos\n",
      "│ │ └►│   ┌─ ум         appos\n",
      "│ │   └──►│  a          flat:foreign\n",
      "│ │       └► н          appos\n",
      "└─└─┌───┌─── родился    \n",
      "    │   │ ┌► в          case\n",
      "    │   └►└─ семье      obl\n",
      "    │ ┌─└►┌─ владельца  nmod\n",
      "    │ │ ┌─└► обойной    nmod\n",
      "    │ │ │ ┌► и          cc\n",
      "    │ │ └►└─ столярной  conj\n",
      "    │ └────► мастерской nmod\n",
      "    └──────► .          punct\n"
     ]
    }
   ],
   "source": [
    "n_doc.parse_syntax(syntax_parser)\n",
    "n_doc.sents[0].syntax.print()"
   ]
  },
  {
   "cell_type": "code",
   "execution_count": 25,
   "id": "16590fb7",
   "metadata": {},
   "outputs": [
    {
     "name": "stdout",
     "output_type": "stream",
     "text": [
      "      ┌──► В             case\n",
      "      │ ┌► 1891—1895     amod\n",
      "    ┌►└─└─ годах         nmod\n",
      "    │   ┌► был           cop\n",
      "┌─┌─└───└─ студентом     \n",
      "│ │   ┌──► Казанского    amod\n",
      "│ │   │ ┌► ветеринарного amod\n",
      "│ └──►└─└─ института     nmod\n",
      "└────────► .             punct\n"
     ]
    }
   ],
   "source": [
    "n_doc.sents[1].syntax.print()"
   ]
  },
  {
   "cell_type": "code",
   "execution_count": 26,
   "id": "502801c3",
   "metadata": {},
   "outputs": [
    {
     "name": "stdout",
     "output_type": "stream",
     "text": [
      "          ┌► В             case\n",
      "      ┌►┌─└─ годы          obl\n",
      "      │ └──► учёбы         nmod\n",
      "┌───┌─└───── увлёкся       \n",
      "│   │     ┌► нелегальной   amod\n",
      "│ ┌►│     └─ народнической amod\n",
      "│ │ │   ┌──► и             cc\n",
      "│ │ │   │ ┌► марксистской  amod\n",
      "│ │ │ ┌►└─└─ литературой   nmod\n",
      "│ │ │ │   ┌► ,             punct\n",
      "│ │ └►│ ┌─└─ участвовал    conj\n",
      "│ │   │ │ ┌► в             case\n",
      "│ │   └─└►└─ работе        obl\n",
      "│ │   │ ┌──► подпольных    amod\n",
      "│ │   │ │ ┌► рабочих       amod\n",
      "│ └───└►└─└─ кружков       nmod\n",
      "└──────────► .             punct\n"
     ]
    }
   ],
   "source": [
    "n_doc.sents[2].syntax.print()"
   ]
  },
  {
   "cell_type": "code",
   "execution_count": null,
   "id": "79e3c1d4",
   "metadata": {},
   "outputs": [],
   "source": []
  }
 ],
 "metadata": {
  "kernelspec": {
   "display_name": "Python 3 (ipykernel)",
   "language": "python",
   "name": "python3"
  },
  "language_info": {
   "codemirror_mode": {
    "name": "ipython",
    "version": 3
   },
   "file_extension": ".py",
   "mimetype": "text/x-python",
   "name": "python",
   "nbconvert_exporter": "python",
   "pygments_lexer": "ipython3",
   "version": "3.9.12"
  }
 },
 "nbformat": 4,
 "nbformat_minor": 5
}
